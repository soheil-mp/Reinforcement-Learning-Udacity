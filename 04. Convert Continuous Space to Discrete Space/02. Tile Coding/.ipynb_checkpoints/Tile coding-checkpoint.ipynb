{
 "cells": [
  {
   "cell_type": "markdown",
   "metadata": {},
   "source": [
    "# TILE CODING\n",
    "\n",
    "<hr>\n",
    "\n",
    "Tile coding is an innovative way of discretizing a continuous space that enables better generalization compared to a single grid-based approach. The fundamental idea is to create several overlapping grids or _tilings_; then for any given sample value, you need only check which tiles it lies in. You can then encode the original continuous value by a vector of integer indices or bits that identifies each activated tile."
   ]
  },
  {
   "cell_type": "code",
   "execution_count": 1,
   "metadata": {},
   "outputs": [],
   "source": [
    "# Import the libraries\n",
    "import sys\n",
    "import gym\n",
    "import numpy as np\n",
    "import matplotlib.pyplot as plt\n",
    "from matplotlib.lines import Line2D\n",
    "from matplotlib.patches import Rectangle\n",
    "import pandas as pd\n",
    "%matplotlib inline"
   ]
  },
  {
   "cell_type": "code",
   "execution_count": 2,
   "metadata": {},
   "outputs": [],
   "source": [
    "# Set the plotting options\n",
    "plt.style.use('ggplot')\n",
    "np.set_printoptions(precision=3, linewidth=120)"
   ]
  },
  {
   "cell_type": "markdown",
   "metadata": {},
   "source": [
    "<br>\n",
    "\n",
    "# 1. Explore the Acrobot Environment\n",
    "\n",
    "We'll use an environment in [OpenAI Gym](https://gym.openai.com/) which is call Acrobot. This environment has a:\n",
    "- Continuous state space\n",
    "- Discrete action space"
   ]
  },
  {
   "cell_type": "code",
   "execution_count": 3,
   "metadata": {},
   "outputs": [],
   "source": [
    "# Make an instance of environment\n",
    "env = gym.make('Acrobot-v1')"
   ]
  },
  {
   "cell_type": "code",
   "execution_count": 4,
   "metadata": {},
   "outputs": [],
   "source": [
    "# Seed \n",
    "env.seed(505);"
   ]
  },
  {
   "cell_type": "code",
   "execution_count": 5,
   "metadata": {},
   "outputs": [
    {
     "name": "stdout",
     "output_type": "stream",
     "text": [
      "State space: Box(6,)\n",
      "- low: [ -1.     -1.     -1.     -1.    -12.566 -28.274]\n",
      "- high: [ 1.     1.     1.     1.    12.566 28.274]\n"
     ]
    }
   ],
   "source": [
    "# Print the state space\n",
    "print(\"State space:\", env.observation_space)\n",
    "print(\"- low:\", env.observation_space.low)\n",
    "print(\"- high:\", env.observation_space.high)"
   ]
  },
  {
   "cell_type": "code",
   "execution_count": 6,
   "metadata": {},
   "outputs": [
    {
     "name": "stdout",
     "output_type": "stream",
     "text": [
      "Action space: Discrete(3)\n"
     ]
    }
   ],
   "source": [
    "# Print the action space\n",
    "print(\"Action space:\", env.action_space)"
   ]
  },
  {
   "cell_type": "markdown",
   "metadata": {},
   "source": [
    "Note that the state space is multi-dimensional, with most dimensions ranging from -1 to 1 (positions of the two joints), while the final two dimensions have a larger range."
   ]
  },
  {
   "cell_type": "markdown",
   "metadata": {},
   "source": [
    "<br>\n",
    "\n",
    "# 2. Tiling\n",
    "\n",
    "<hr>\n",
    "\n",
    "Let's first design a way to create a single tiling for a given state space. This is very similar to a uniform grid! The only difference is that you should include an offset for each dimension that shifts the split points.\n",
    "\n",
    "For instance, if `low = [-1.0, -5.0]`, `high = [1.0, 5.0]`, `bins = (10, 10)`, and `offsets = (-0.1, 0.5)`, then return a list of 2 NumPy arrays (2 dimensions) each containing the following split points (9 split points per dimension):\n",
    "\n",
    "```\n",
    "[array([-0.9, -0.7, -0.5, -0.3, -0.1,  0.1,  0.3,  0.5,  0.7]),\n",
    " array([-3.5, -2.5, -1.5, -0.5,  0.5,  1.5,  2.5,  3.5,  4.5])]\n",
    "```\n",
    "\n",
    "Notice how the split points for the first dimension are offset by `-0.1`, and for the second dimension are offset by `+0.5`. This might mean that some of our tiles, especially along the perimeter, are partially outside the valid state space, but that is unavoidable and harmless."
   ]
  },
  {
   "cell_type": "code",
   "execution_count": 7,
   "metadata": {},
   "outputs": [],
   "source": [
    "# Tiling grid\n",
    "def create_tiling_grid(low, high, bins=(10, 10), offsets=(0.0, 0.0)):\n",
    "    \"\"\"\n",
    "    Define a uniformly-spaced grid that can be used for tile-coding a space.\n",
    "    \n",
    "    PARAMETERS\n",
    "    ------------------------\n",
    "        - low : Lower bounds for each dimension of the continuous space. (array_like)\n",
    "        - high : Upper bounds for each dimension of the continuous space. (array_like)\n",
    "        - bins : Number of bins or tiles along each corresponding dimension. (tuple)\n",
    "        - offsets : Split points for each dimension should be offset by these values. (tuple)\n",
    "    \n",
    "    RETURNS\n",
    "    ------------------------\n",
    "        - grid : A list of arrays containing split points for each dimension. (list of array_like)\n",
    "    \"\"\"\n",
    "    # Create a uniformly-spaced grid (for tile-coding a space)\n",
    "    grid = [np.linspace(low[dim], high[dim], bins[dim] + 1)[1:-1] + offsets[dim] for dim in range(len(bins))]\n",
    "    \n",
    "    return grid"
   ]
  },
  {
   "cell_type": "code",
   "execution_count": 8,
   "metadata": {},
   "outputs": [],
   "source": [
    "# Define lower bound, upper bound, bins, offsets\n",
    "low = [-1.0, -5.0]\n",
    "high = [1.0, 5.0]\n",
    "bins=(10, 10)\n",
    "offsets=(0.0, 0.0)\n",
    "\n",
    "# Create a uniformly-spaced grid (for tile-coding a space)\n",
    "grid = create_tiling_grid(low, high, bins=(10, 10), offsets=(-0.1, 0.5))"
   ]
  },
  {
   "cell_type": "code",
   "execution_count": 9,
   "metadata": {},
   "outputs": [
    {
     "name": "stdout",
     "output_type": "stream",
     "text": [
      "Tiling: \n",
      "\n",
      "[<low>, <high>] / <bins> + (<offset>) => <splits>\n",
      "[-1.0, 1.0] / 10 + (0.0) => [-0.9 -0.7 -0.5 -0.3 -0.1  0.1  0.3  0.5  0.7]\n",
      "[-5.0, 5.0] / 10 + (0.0) => [-3.5 -2.5 -1.5 -0.5  0.5  1.5  2.5  3.5  4.5]\n"
     ]
    }
   ],
   "source": [
    "# Print the process\n",
    "print(\"Tiling: \\n\")\n",
    "print(\"[<low>, <high>] / <bins> + (<offset>) => <splits>\")\n",
    "for l, h, b, o, splits in zip(low, high, bins, offsets, grid):\n",
    "    print(\"[{}, {}] / {} + ({}) => {}\".format(l, h, b, o, splits))"
   ]
  },
  {
   "cell_type": "markdown",
   "metadata": {},
   "source": [
    "You can now use this function to define a set of tilings that are a little offset from each other."
   ]
  },
  {
   "cell_type": "code",
   "execution_count": 10,
   "metadata": {},
   "outputs": [],
   "source": [
    "# Multiple tilings\n",
    "def create_tilings(low, high, tiling_specs):\n",
    "    \"\"\"\n",
    "    Define multiple tilings using the provided specifications.\n",
    "\n",
    "    PARAMETERS\n",
    "    -----------------------\n",
    "        - low : Lower bounds for each dimension of the continuous space. (array_like)     \n",
    "        - high : Upper bounds for each dimension of the continuous space. (array_like)\n",
    "        - tiling_specs : A sequence of (bins, offsets) to be passed to create_tiling_grid(). (list of tuples)\n",
    "\n",
    "    RETURNS\n",
    "    -----------------------\n",
    "        - tilings : A list of tilings (grids), each produced by create_tiling_grid(). (list)\n",
    "    \"\"\"\n",
    "    # Create the multi tilings\n",
    "    tilings = [create_tiling_grid(low, high, bins, offsets) for bins, offsets in tiling_specs]\n",
    "    \n",
    "    return tilings"
   ]
  },
  {
   "cell_type": "code",
   "execution_count": 11,
   "metadata": {},
   "outputs": [],
   "source": [
    "# Define a sequence of (bins, offsets)\n",
    "tiling_specs = [((10, 10), (-0.066, -0.33)),\n",
    "                ((10, 10), (0.0, 0.0)),\n",
    "                ((10, 10), (0.066, 0.33))]\n",
    "\n",
    "# Create the multiple tilings\n",
    "tilings = create_tilings(low, high, tiling_specs)"
   ]
  },
  {
   "cell_type": "markdown",
   "metadata": {},
   "source": [
    "It may be hard to gauge whether you are getting desired results or not. So let's try to visualize these tilings."
   ]
  },
  {
   "cell_type": "code",
   "execution_count": 12,
   "metadata": {},
   "outputs": [],
   "source": [
    "# Visualize the tilings\n",
    "def visualize_tilings(tilings):\n",
    "    \"\"\"\n",
    "    Plot each tiling as a grid.\n",
    "    \n",
    "    PARAMETERS\n",
    "    -----------------\n",
    "        - tilings : A list of tilings (grids), each produced by create_tiling_grid(). (list)\n",
    "        \n",
    "    RETURNS\n",
    "    -----------------\n",
    "        - ax: Axis object to draw on later (if needed)\n",
    "    \"\"\"\n",
    "    # Get the color cycle\n",
    "    prop_cycle = plt.rcParams['axes.prop_cycle']\n",
    "    \n",
    "    # Get the colors\n",
    "    colors = prop_cycle.by_key()['color']\n",
    "    \n",
    "    # Set the line styles\n",
    "    linestyles = ['-', '--', ':']\n",
    "    \n",
    "    # Initialize an empty list for legend lines\n",
    "    legend_lines = []\n",
    "\n",
    "    # Create a figure and a set of subplots\n",
    "    fig, ax = plt.subplots(figsize=(10, 10))\n",
    "    \n",
    "    # Iterate through tilings\n",
    "    for i, grid in enumerate(tilings):\n",
    "        \n",
    "        # Iterate through x\n",
    "        for x in grid[0]:\n",
    "            \n",
    "            # Add a vertical line across the axes\n",
    "            l = ax.axvline(x=x, color=colors[i % len(colors)], linestyle=linestyles[i % len(linestyles)], label=i)\n",
    "        \n",
    "        # Iterate through y\n",
    "        for y in grid[1]:\n",
    "            \n",
    "            # Add a horizontal line across the axes\n",
    "            l = ax.axhline(y=y, color=colors[i % len(colors)], linestyle=linestyles[i % len(linestyles)])\n",
    "            \n",
    "        # Append the line into legend_lines\n",
    "        legend_lines.append(l)\n",
    "        \n",
    "    # Hide axes and gridlines\n",
    "    ax.grid(False)\n",
    "    \n",
    "    # Place legends on the axes\n",
    "    ax.legend(legend_lines, [\"Tiling #{}\".format(t) for t in range(len(legend_lines))], facecolor='white', framealpha=0.9)\n",
    "    \n",
    "    # Titile\n",
    "    ax.set_title(\"Tilings\")\n",
    "    \n",
    "    # Return Axis object to draw on later (if needed)\n",
    "    return ax  "
   ]
  },
  {
   "cell_type": "code",
   "execution_count": 13,
   "metadata": {},
   "outputs": [
    {
     "data": {
      "image/png": "[encoded data removed]",
      "text/plain": [
       "<Figure size 720x720 with 1 Axes>"
      ]
     },
     "metadata": {},
     "output_type": "display_data"
    }
   ],
   "source": [
    "# Visualize the tilings\n",
    "visualize_tilings(tilings);"
   ]
  },
  {
   "cell_type": "markdown",
   "metadata": {},
   "source": [
    "Great! Now that we have a way to generate these tilings, we can next write our encoding function that will convert any given continuous state value to a discrete vector."
   ]
  },
  {
   "cell_type": "markdown",
   "metadata": {},
   "source": [
    "<br>\n",
    "\n",
    "# 3. Tile Encoding\n",
    "\n",
    "<hr>\n",
    "\n",
    "Implement the following to produce a vector that contains the indices for each tile that the input state value belongs to. The shape of the vector can be the same as the arrangment of tiles you have, or it can be ultimately flattened for convenience.\n",
    "\n",
    "You can use the same `discretize()` function here from grid-based discretization, and simply call it for each tiling."
   ]
  },
  {
   "cell_type": "code",
   "execution_count": 14,
   "metadata": {},
   "outputs": [],
   "source": [
    "def discretize(sample, grid):\n",
    "    \"\"\"\n",
    "    Discretize a sample as per given grid.\n",
    "    \n",
    "    PARAMETERS\n",
    "    -----------------------\n",
    "        - sample : A single sample from the (original) continuous space. (array_like)\n",
    "        - grid : A list of arrays containing split points for each dimension. (list of array_like)\n",
    "    \n",
    "    RETURNS\n",
    "    -----------------------\n",
    "        - discretized_sample : A sequence of integers with the same number of dimensions as sample. (array_like)\n",
    "    \"\"\"\n",
    "    # Get the discretized sample; You have to apply this along each dimension\n",
    "    discretized_sample = tuple(int(np.digitize(s, g)) for s, g in zip(sample, grid))\n",
    "\n",
    "    return discretized_sample"
   ]
  },
  {
   "cell_type": "code",
   "execution_count": 15,
   "metadata": {},
   "outputs": [],
   "source": [
    "def tile_encode(sample, tilings, flatten=False):\n",
    "    \"\"\"\n",
    "    Encode given sample using tile-coding.\n",
    "    \n",
    "    PARAMETERS\n",
    "    -----------------------\n",
    "        - sample : A single sample from the (original) continuous space. (array_like)\n",
    "        - tilings : A list of tilings (grids), each produced by create_tiling_grid(). (list)\n",
    "        - flatten : If true, flatten the resulting binary arrays into a single long vector. (bool)\n",
    "\n",
    "    RETURNS\n",
    "    -----------------------\n",
    "        - encoded_sample : A list of binary vectors, one for each tiling, or flattened into one. (list or array_like)\n",
    "    \"\"\"\n",
    "    # Encode sample using tile-coding\n",
    "    encoded_sample = [discretize(sample, grid) for grid in tilings]\n",
    "    \n",
    "    # Flatten the list (if specificied)\n",
    "    encoded_sample = np.concatenate(encoded_sample) if flatten else encoded_sample\n",
    "    \n",
    "    return encoded_sample"
   ]
  },
  {
   "cell_type": "code",
   "execution_count": 16,
   "metadata": {},
   "outputs": [
    {
     "name": "stdout",
     "output_type": "stream",
     "text": [
      "Samples:\n",
      "[(-1.2, -5.1), (-0.75, 3.25), (-0.5, 0.0), (0.25, -1.9), (0.15, -1.75), (0.75, 2.5), (0.7, -3.7), (1.0, 5.0)]\n",
      "\n",
      "Encoded samples:\n",
      "[[(0, 0), (0, 0), (0, 0)], [(1, 8), (1, 8), (0, 7)], [(2, 5), (2, 5), (2, 4)], [(6, 3), (6, 3), (5, 2)], [(6, 3), (5, 3), (5, 2)], [(9, 7), (8, 7), (8, 7)], [(8, 1), (8, 1), (8, 0)], [(9, 9), (9, 9), (9, 9)]]\n"
     ]
    }
   ],
   "source": [
    "# Define some sample values\n",
    "samples = [(-1.2 , -5.1 ),\n",
    "           (-0.75,  3.25),\n",
    "           (-0.5 ,  0.0 ),\n",
    "           ( 0.25, -1.9 ),\n",
    "           ( 0.15, -1.75),\n",
    "           ( 0.75,  2.5 ),\n",
    "           ( 0.7 , -3.7 ),\n",
    "           ( 1.0 ,  5.0 )]\n",
    "\n",
    "# Get the encoded sample\n",
    "encoded_samples = [tile_encode(sample, tilings) for sample in samples]\n",
    "\n",
    "# Print the samples\n",
    "print(\"Samples:\", repr(samples), sep=\"\\n\")\n",
    "\n",
    "# Print the encoded samples\n",
    "print(\"\\nEncoded samples:\", repr(encoded_samples), sep=\"\\n\")"
   ]
  },
  {
   "cell_type": "markdown",
   "metadata": {},
   "source": [
    "Note that we did not flatten the encoding above, which is why each sample's representation is a pair of indices for each tiling. This makes it easy to visualize it using the tilings."
   ]
  },
  {
   "cell_type": "code",
   "execution_count": 17,
   "metadata": {},
   "outputs": [],
   "source": [
    "def visualize_encoded_samples(samples, encoded_samples, tilings, low = None, high = None):\n",
    "    \"\"\"\n",
    "    Visualize samples by activating the respective tiles.\n",
    "    \n",
    "    PARAMETERS\n",
    "    -----------------------\n",
    "        - sample : A single sample from the (original) continuous space. (array_like)\n",
    "        - encoded_sample : A list of binary vectors, one for each tiling, or flattened into one. (list or array_like)\n",
    "        - tilings : A list of tilings (grids), each produced by create_tiling_grid(). (list)\n",
    "        - low : Lower bounds for each dimension of the continuous space. (array_like)     \n",
    "        - high : Upper bounds for each dimension of the continuous space. (array_like)\n",
    "    \n",
    "     RETURNS\n",
    "    -----------------------\n",
    "        - ax:Axis object to draw on later (if needed)\n",
    "    \"\"\"\n",
    "    # Convert samples into an array (for ease of indexing)\n",
    "    samples = np.array(samples)\n",
    "\n",
    "    # Plot each tiling as a grid\n",
    "    ax = visualize_tilings(tilings)\n",
    "    \n",
    "    # If low and high are specified\n",
    "    if low is not None and high is not None:\n",
    "        \n",
    "        # Set axis limits for x\n",
    "        ax.set_xlim(low[0], high[0])\n",
    "        \n",
    "        # Set axis limits for y\n",
    "        ax.set_ylim(low[1], high[1])\n",
    "        \n",
    "    # If low and high are NOT specified\n",
    "    else:\n",
    "        \n",
    "        # Plot the samples\n",
    "        ax.plot(samples[:, 0], samples[:, 1], 'o', alpha=0.0)\n",
    "        \n",
    "        # Get the lower bound\n",
    "        low = [ax.get_xlim()[0], ax.get_ylim()[0]]\n",
    "        \n",
    "        # Get the upper bound\n",
    "        high = [ax.get_xlim()[1], ax.get_ylim()[1]]\n",
    "\n",
    "    # Add low and high ends\n",
    "    tilings_extended = [np.hstack((np.array([low]).T, grid, np.array([high]).T)) for grid in tilings]  \n",
    "    \n",
    "    # Compute center of each tile\n",
    "    tile_centers = [(grid_extended[:, 1:] + grid_extended[:, :-1]) / 2 for grid_extended in tilings_extended] \n",
    "    \n",
    "    # Compute topleft of each tile\n",
    "    tile_toplefts = [grid_extended[:, :-1] for grid_extended in tilings_extended]  \n",
    "    \n",
    "    # Compute bottomright of each tile\n",
    "    tile_bottomrights = [grid_extended[:, 1:] for grid_extended in tilings_extended]  \n",
    "\n",
    "    # Get the color cycle\n",
    "    prop_cycle = plt.rcParams['axes.prop_cycle']\n",
    "    \n",
    "    # Get the colors\n",
    "    colors = prop_cycle.by_key()['color']\n",
    "    \n",
    "    # Iterate through samples, and encoded samples\n",
    "    for sample, encoded_sample in zip(samples, encoded_samples):\n",
    "        \n",
    "        # Iterate through each of encoded sample\n",
    "        for i, tile in enumerate(encoded_sample):\n",
    "            \n",
    "            # Get the top left\n",
    "            topleft = tile_toplefts[i][0][tile[0]], tile_toplefts[i][1][tile[1]]\n",
    "            \n",
    "            # Get the bottom right\n",
    "            bottomright = tile_bottomrights[i][0][tile[0]], tile_bottomrights[i][1][tile[1]]\n",
    "            \n",
    "            # Draw the rectangle (shading the entire tile with a rectangle)\n",
    "            ax.add_patch(Rectangle(topleft, bottomright[0] - topleft[0], bottomright[1] - topleft[1],\n",
    "                                   color=colors[i], alpha=0.33))\n",
    "\n",
    "            # If sample is outside tile bounds\n",
    "            if any(sample < topleft) or any(sample > bottomright):\n",
    "                \n",
    "                # Get x and y\n",
    "                cx, cy = tile_centers[i][0][tile[0]], tile_centers[i][1][tile[1]]\n",
    "                \n",
    "                # Draw a connecting line\n",
    "                ax.add_line(Line2D([sample[0], cx], [sample[1], cy], color=colors[i]))\n",
    "                \n",
    "                # Plot a point in the center of the tile\n",
    "                ax.plot(cx, cy, 's', color=colors[i])\n",
    "    \n",
    "    # Plot the original samples\n",
    "    ax.plot(samples[:, 0], samples[:, 1], 'o', color='r')\n",
    "\n",
    "    # Remove margins\n",
    "    ax.margins(x = 0, y = 0)  \n",
    "    \n",
    "    # Set title\n",
    "    ax.set_title(\"Tile-encoded samples\")\n",
    "    \n",
    "    return ax"
   ]
  },
  {
   "cell_type": "code",
   "execution_count": 18,
   "metadata": {},
   "outputs": [
    {
     "data": {
      "image/png": "[encoded data removed]",
      "text/plain": [
       "<Figure size 720x720 with 1 Axes>"
      ]
     },
     "metadata": {},
     "output_type": "display_data"
    }
   ],
   "source": [
    "# Visualize the samples by activating the respective tiles\n",
    "visualize_encoded_samples(samples, encoded_samples, tilings);"
   ]
  },
  {
   "cell_type": "markdown",
   "metadata": {},
   "source": [
    "Inspect the results and make sure you understand how the corresponding tiles are being chosen. Note that some samples may have one or more tiles in common."
   ]
  },
  {
   "cell_type": "markdown",
   "metadata": {},
   "source": [
    "<br>\n",
    "\n",
    "# 4. Q-Table with Tile Coding\n",
    "\n",
    "<hr>\n",
    "\n",
    "The next step is to design a special Q-table that is able to utilize this tile coding scheme. It should have the same kind of interface as a regular table, i.e. given a `<state, action>` pair, it should return a `<value>`. Similarly, it should also allow you to update the `<value>` for a given `<state, action>` pair (note that this should update all the tiles that `<state>` belongs to).\n",
    "\n",
    "The `<state>` supplied here is assumed to be from the original continuous state space, and `<action>` is discrete (and integer index). The Q-table should internally convert the `<state>` to its tile-coded representation when required."
   ]
  },
  {
   "cell_type": "code",
   "execution_count": 19,
   "metadata": {},
   "outputs": [],
   "source": [
    "# Q-Table class\n",
    "class QTable:\n",
    "    \"\"\"\n",
    "    Simple Q-table.\n",
    "    \n",
    "    \"\"\"\n",
    "\n",
    "    # init function\n",
    "    def __init__(self, state_size, action_size):\n",
    "        \"\"\"\n",
    "        Initialize Q-table.\n",
    "        \n",
    "        PARAMETERS\n",
    "        --------------------\n",
    "        state_size : Number of discrete values along each dimension of state space. (tuple)\n",
    "        action_size : Number of discrete actions in action space. (int)\n",
    "        \"\"\"\n",
    "        # Set the state size and action size\n",
    "        self.state_size = state_size\n",
    "        self.action_size = action_size\n",
    "\n",
    "        # Initialize all Q-values to zero; if state_size = (9, 9), action_size = 2, q_table.shape should be (9, 9, 2)\n",
    "        self.q_table = np.zeros(shape=(self.state_size + (self.action_size,)))\n",
    "        #print(\"QTable(): size =\", self.q_table.shape)"
   ]
  },
  {
   "cell_type": "code",
   "execution_count": 20,
   "metadata": {},
   "outputs": [],
   "source": [
    "# Tile Q-Table class\n",
    "class TiledQTable:\n",
    "    \"\"\"\n",
    "    Composite Q-table with an internal tile coding scheme.\n",
    "    \n",
    "    \"\"\"\n",
    "    \n",
    "    # init function\n",
    "    def __init__(self, low, high, tiling_specs, action_size):\n",
    "        \"\"\"\n",
    "        Create tilings and initialize internal Q-table(s).\n",
    "        \n",
    "        PARAMETERS\n",
    "        ---------------------\n",
    "            - low : Lower bounds for each dimension of state space. (array_like)\n",
    "            - high : Upper bounds for each dimension of state space. (array_like)\n",
    "            - tiling_specs : A sequence of (bins, offsets) to be passed to create_tilings() along with low, \n",
    "                             high. (list of tuples)\n",
    "            - action_size : Number of discrete actions in action space. (int)\n",
    "        \"\"\"\n",
    "        # Set the multiple tilings\n",
    "        self.tilings = create_tilings(low, high, tiling_specs)\n",
    "        \n",
    "        # Set the state size and action size\n",
    "        self.state_sizes = [tuple(len(splits)+1 for splits in tiling_grid) for tiling_grid in self.tilings]\n",
    "        self.action_size = action_size\n",
    "        \n",
    "        # Set the Q-Table\n",
    "        self.q_tables = [QTable(state_size, self.action_size) for state_size in self.state_sizes]\n",
    "        #print(\"TiledQTable(): no. of internal tables = \", len(self.q_tables))\n",
    "    \n",
    "    \n",
    "    # Get the Q-Value\n",
    "    def get(self, state, action):\n",
    "        \"\"\"\n",
    "        Get Q-value for given <state, action> pair.\n",
    "        \n",
    "        PARAMETERS\n",
    "        ---------------------\n",
    "            - state : Vector representing the state in the original continuous space. (array_like)\n",
    "            - action : Index of desired action. (int)\n",
    "        \n",
    "        RETURNS\n",
    "        ---------------------\n",
    "            - value : Q-value of given <state, action> pair, averaged from all internal Q-tables. (float)\n",
    "        \"\"\"\n",
    "        # Encode state to get tile indices\n",
    "        encoded_state = tile_encode(state, self.tilings)\n",
    "        \n",
    "        # Initialize value to zero\n",
    "        value = 0.0\n",
    "        \n",
    "        # Iterate through encoded state and Q-Tables\n",
    "        for idx, q_table in zip(encoded_state, self.q_tables):\n",
    "            \n",
    "            # Retrieve q-value for each tiling\n",
    "            value += q_table.q_table[tuple(idx + (action,))]\n",
    "            \n",
    "        # Average the value\n",
    "        value /= len(self.q_tables)\n",
    "        \n",
    "        return value\n",
    "    \n",
    "    \n",
    "    # Update Q-value\n",
    "    def update(self, state, action, value, alpha = 0.1):\n",
    "        \"\"\"\n",
    "        Soft-update Q-value for given <state, action> pair to value. Instead of overwriting \n",
    "        Q(state, action) with value, perform soft-update:\n",
    "            \n",
    "                  Q(state, action) = alpha * value + (1.0 - alpha) * Q(state, action)\n",
    "        \n",
    "        \n",
    "        PARAMETERS\n",
    "        ---------------------\n",
    "            - state : Vector representing the state in the original continuous space. (array_like)\n",
    "            - action : Index of desired action. (int)\n",
    "            - value : Desired Q-value for <state, action> pair. (float)\n",
    "            - alpha : Update factor to perform soft-update, in [0.0, 1.0] range. (float)\n",
    "        \"\"\"\n",
    "        # Encode state to get tile indices\n",
    "        encoded_state = tile_encode(state, self.tilings)\n",
    "        \n",
    "        # Iterate through encoded state and Q-Tables\n",
    "        for idx, q_table in zip(encoded_state, self.q_tables):\n",
    "            \n",
    "            # Get the current value\n",
    "            value_ = q_table.q_table[tuple(idx + (action,))]  \n",
    "            \n",
    "            # Update q-value for each tiling by update factor alpha\n",
    "            q_table.q_table[tuple(idx + (action,))] = alpha * value + (1.0 - alpha) * value_"
   ]
  },
  {
   "cell_type": "code",
   "execution_count": 21,
   "metadata": {},
   "outputs": [
    {
     "name": "stdout",
     "output_type": "stream",
     "text": [
      "[GET]    Q((0.25, -1.9), 0) = 0.0\n",
      "[UPDATE] Q((0.15, -1.75), 0) = 1.0\n",
      "[GET]    Q((0.25, -1.9), 0) = 0.06666666666666667\n"
     ]
    }
   ],
   "source": [
    "# Test with a sample Q-table\n",
    "# Create tilings and initialize internal Q-table(s)\n",
    "tq = TiledQTable(low, high, tiling_specs, 2)\n",
    "\n",
    "# Set the following values\n",
    "s1 = 3\n",
    "s2 = 4\n",
    "a = 0\n",
    "q = 1.0\n",
    "\n",
    "# Check value at sample = s1, action = a\n",
    "print(\"[GET]    Q({}, {}) = {}\".format(samples[s1], a, tq.get(samples[s1], a)))  \n",
    "\n",
    "# Update value for sample with some common tile(s)\n",
    "print(\"[UPDATE] Q({}, {}) = {}\".format(samples[s2], a, q)); tq.update(samples[s2], a, q)  \n",
    "\n",
    "# Check value again, should be slightly updated\n",
    "print(\"[GET]    Q({}, {}) = {}\".format(samples[s1], a, tq.get(samples[s1], a)))  "
   ]
  },
  {
   "cell_type": "markdown",
   "metadata": {},
   "source": [
    "If you update the q-value for a particular state (say, `(0.25, -1.91)`) and action (say, `0`), then you should notice the q-value of a nearby state (e.g. `(0.15, -1.75)` and same action) has changed as well! This is how tile-coding is able to generalize values across the state space better than a single uniform grid."
   ]
  },
  {
   "cell_type": "markdown",
   "metadata": {},
   "source": [
    "<br>\n",
    "\n",
    "# 5. Implement a Q-Learning Agent using Tile-Coding\n",
    "\n",
    "<hr>\n",
    "\n",
    "Now it's your turn to apply this discretization technique to design and test a complete learning agent! "
   ]
  },
  {
   "cell_type": "code",
   "execution_count": 22,
   "metadata": {},
   "outputs": [],
   "source": [
    "# Q-Learning Agent\n",
    "class QLearningAgent:\n",
    "    \"\"\"\n",
    "    Q-Learning agent that can act on a continuous state space by discretizing it.\n",
    "    \n",
    "    \"\"\"\n",
    "\n",
    "    # init function \n",
    "    def __init__(self, env, tq, alpha=0.02, gamma=0.99, epsilon=1.0, epsilon_decay_rate=0.9995, min_epsilon=.01, seed=0):\n",
    "        \"\"\"\n",
    "        Initialize variables, create grid for discretization.\n",
    "        \n",
    "        ARGUMENTS\n",
    "        ----------------------------\n",
    "            - env: An instance of OpenAI Gym environment\n",
    "            - tq: Tiled Q-Table\n",
    "            - alpha: Learning rate\n",
    "            - gamma: Discount factor\n",
    "            - epsilon: Initial exploration rate\n",
    "            - epsilon_decay_rate: How quickly should we decrease epsilon\n",
    "            - min_epsilon: Minimum allowed epsilon\n",
    "            - seed: Seed for having same probability\n",
    "        \"\"\"\n",
    "        # Environment info\n",
    "        self.env = env\n",
    "        self.tq = tq \n",
    "        self.state_sizes = tq.state_sizes           # list of state sizes for each tiling\n",
    "        self.action_size = self.env.action_space.n  # 1-dimensional discrete action space\n",
    "        self.seed = np.random.seed(seed)\n",
    "        #print(\"Environment:\", self.env)\n",
    "        #print(\"State space sizes:\", self.state_sizes)\n",
    "        #print(\"Action space size:\", self.action_size)\n",
    "        \n",
    "        # Learning parameters\n",
    "        self.alpha = alpha  \n",
    "        self.gamma = gamma  \n",
    "        self.epsilon = self.initial_epsilon = epsilon  \n",
    "        self.epsilon_decay_rate = epsilon_decay_rate   \n",
    "        self.min_epsilon = min_epsilon\n",
    "\n",
    "        \n",
    "    # Reset episode\n",
    "    def reset_episode(self, state):\n",
    "        \"\"\"\n",
    "        Reset variables for a new episode.\n",
    "        \n",
    "        ARGUMENTS\n",
    "        ------------------\n",
    "            - state\n",
    "        \"\"\"\n",
    "        # Gradually decrease exploration rate\n",
    "        self.epsilon *= self.epsilon_decay_rate\n",
    "        self.epsilon = max(self.epsilon, self.min_epsilon)\n",
    "        \n",
    "        self.last_state = state\n",
    "        Q_s = [self.tq.get(state, action) for action in range(self.action_size)]\n",
    "        self.last_action = np.argmax(Q_s)\n",
    "        return self.last_action\n",
    "    \n",
    "    \n",
    "    # Reset exploration rate\n",
    "    def reset_exploration(self, epsilon=None):\n",
    "        \"\"\"\n",
    "        Reset exploration rate used when training.\n",
    "        \n",
    "        ARGUMENTS\n",
    "        --------------------\n",
    "            - epsilon\n",
    "        \"\"\"\n",
    "        self.epsilon = epsilon if epsilon is not None else self.initial_epsilon\n",
    "\n",
    "        \n",
    "    # Pick next action + Update Q-Table\n",
    "    def act(self, state, reward=None, done=None, mode='train'):\n",
    "        \"\"\"\n",
    "        Pick next action and update internal Q table (when mode != 'test').\n",
    "        \n",
    "        ARGUMENTS\n",
    "        --------------------\n",
    "            - state: State\n",
    "            - reward: Reward\n",
    "            - done: Terminal state\n",
    "            - mode: Training or testing\n",
    "            \n",
    "        RETURNS\n",
    "        --------------------\n",
    "            - action: Action\n",
    "        \"\"\"\n",
    "        # Get Q(s)\n",
    "        Q_s = [self.tq.get(state, action) for action in range(self.action_size)]\n",
    "        \n",
    "        # Pick the best action from Q table\n",
    "        greedy_action = np.argmax(Q_s)\n",
    "        \n",
    "        # If testing\n",
    "        if mode == 'test':\n",
    "            \n",
    "            # Simply produce an action\n",
    "            action = greedy_action\n",
    "            \n",
    "        # If training; Update Q table, pick next action\n",
    "        else:\n",
    "            \n",
    "            # Get the value\n",
    "            value = reward + self.gamma * max(Q_s)\n",
    "            \n",
    "            # Update the Q table entry for the *last* (state, action) pair with current state, reward\n",
    "            self.tq.update(self.last_state, self.last_action, value, self.alpha)\n",
    "\n",
    "            # Exploration vs. exploitation\n",
    "            do_exploration = np.random.uniform(0, 1) < self.epsilon\n",
    "            \n",
    "            # If exploration\n",
    "            if do_exploration:\n",
    "                \n",
    "                # Pick a random action\n",
    "                action = np.random.randint(0, self.action_size)\n",
    "                \n",
    "            # If exploitation\n",
    "            else:\n",
    "                \n",
    "                # Pick the greedy action\n",
    "                action = greedy_action\n",
    "\n",
    "        # Roll over current state, action for next step\n",
    "        self.last_state = state\n",
    "        self.last_action = action\n",
    "        \n",
    "        return action"
   ]
  },
  {
   "cell_type": "code",
   "execution_count": 23,
   "metadata": {},
   "outputs": [],
   "source": [
    "# Number of bins\n",
    "n_bins = 5\n",
    "\n",
    "# Get the bins\n",
    "bins = tuple([n_bins]*env.observation_space.shape[0])\n",
    "\n",
    "# Offset position\n",
    "offset_pos = (env.observation_space.high - env.observation_space.low)/(3*n_bins)\n",
    "\n",
    "# Get the tiling specs\n",
    "tiling_specs = [(bins, -offset_pos),\n",
    "                (bins, tuple([0.0]*env.observation_space.shape[0])),\n",
    "                (bins, offset_pos)]\n",
    "\n",
    "# Get the Tiled Q-Table\n",
    "tq = TiledQTable(env.observation_space.low, \n",
    "                 env.observation_space.high, \n",
    "                 tiling_specs, \n",
    "                 env.action_space.n)\n",
    "\n",
    "# Q-Learning agent\n",
    "agent = QLearningAgent(env, tq)"
   ]
  },
  {
   "cell_type": "code",
   "execution_count": 24,
   "metadata": {},
   "outputs": [],
   "source": [
    "def run(agent, env, num_episodes = 10000, mode = 'train'):\n",
    "    \"\"\"\n",
    "    Run agent in given reinforcement learning environment and return scores.\n",
    "    \n",
    "    ARGUMENTS\n",
    "    ----------------------\n",
    "        - agent: Q-Learning agent\n",
    "        - env: An instance of OpenAI Gym environment\n",
    "        - num_episodes: Number of episodes\n",
    "        - mode: Training or testing\n",
    "        \n",
    "    RETURNS\n",
    "    ----------------------\n",
    "        - scores: Scores\n",
    "    \"\"\"\n",
    "    # Initialize an empty list for scores\n",
    "    scores = []\n",
    "    \n",
    "    # Set the maximum average score\n",
    "    max_avg_score = -np.inf\n",
    "    \n",
    "    # Iterate through number of episodes\n",
    "    for i_episode in range(1, num_episodes+1):\n",
    "        \n",
    "        # Resets the state + Return the initial observation\n",
    "        state = env.reset()\n",
    "        \n",
    "        # Get action by reseting the variables for a new episode\n",
    "        action = agent.reset_episode(state)\n",
    "        \n",
    "        # Initialize the total reward\n",
    "        total_reward = 0\n",
    "        \n",
    "        # Initialize the terminal to false\n",
    "        done = False\n",
    "\n",
    "        # While it's not a terminal state\n",
    "        while not done:\n",
    "            \n",
    "            # Run one timestep of the environment's dynamics\n",
    "            state, reward, done, info = env.step(action)\n",
    "            \n",
    "            # Append reward to total reward\n",
    "            total_reward += reward\n",
    "            \n",
    "            # Pick next action + update internal Q table \n",
    "            action = agent.act(state, reward, done, mode)\n",
    "\n",
    "        # Append total reward into scores\n",
    "        scores.append(total_reward)\n",
    "\n",
    "        # If training\n",
    "        if mode == 'train':\n",
    "            \n",
    "            # If length is bigger than 100\n",
    "            if len(scores) > 100:\n",
    "                \n",
    "                # Get the average score\n",
    "                avg_score = np.mean(scores[-100:])\n",
    "                \n",
    "                # If average score is larger than maximum average score \n",
    "                if avg_score > max_avg_score:\n",
    "                    \n",
    "                    # Update the maximum average score \n",
    "                    max_avg_score = avg_score\n",
    "                    \n",
    "            # Every 100 episodes\n",
    "            if i_episode % 100 == 0:\n",
    "                \n",
    "                # Print episode and score\n",
    "                print(\"\\rEpisode {}/{} | Max Average Score: {}\".format(i_episode, num_episodes, max_avg_score), end=\"\")\n",
    "                sys.stdout.flush()\n",
    "                \n",
    "    return scores"
   ]
  },
  {
   "cell_type": "code",
   "execution_count": 25,
   "metadata": {},
   "outputs": [
    {
     "name": "stdout",
     "output_type": "stream",
     "text": [
      "Episode 10000/10000 | Max Average Score: -242.47"
     ]
    }
   ],
   "source": [
    "# Run agent in the given environment + return scores\n",
    "scores = run(agent, env)"
   ]
  },
  {
   "cell_type": "code",
   "execution_count": 26,
   "metadata": {},
   "outputs": [],
   "source": [
    "# Function for plotting scores\n",
    "def plot_scores(scores, rolling_window = 100):\n",
    "    \"\"\"\n",
    "    Plot scores and optional rolling mean using specified window.\n",
    "    \n",
    "    ARGUMENTS\n",
    "    ------------------\n",
    "        - scores\n",
    "        - rolling_window\n",
    "        \n",
    "    RETURNS \n",
    "    ------------------\n",
    "        - rolling_mean\n",
    "    \"\"\"\n",
    "    # Plot the scores\n",
    "    plt.plot(scores)\n",
    "    \n",
    "    # Set the title\n",
    "    plt.title(\"Scores\")\n",
    "    \n",
    "    # Get the rolling mean\n",
    "    rolling_mean = pd.Series(scores).rolling(rolling_window).mean()\n",
    "    \n",
    "    # Plot the rolling mean\n",
    "    plt.plot(rolling_mean);\n",
    "    \n",
    "    return rolling_mean"
   ]
  },
  {
   "cell_type": "code",
   "execution_count": 27,
   "metadata": {},
   "outputs": [
    {
     "data": {
      "image/png": "[encoded data removed]",
      "text/plain": [
       "<Figure size 432x288 with 1 Axes>"
      ]
     },
     "metadata": {},
     "output_type": "display_data"
    }
   ],
   "source": [
    "# Plot the scores\n",
    "rolling_mean = plot_scores(scores)"
   ]
  }
 ],
 "metadata": {
  "kernelspec": {
   "display_name": "Python 3",
   "language": "python",
   "name": "python3"
  },
  "language_info": {
   "codemirror_mode": {
    "name": "ipython",
    "version": 3
   },
   "file_extension": ".py",
   "mimetype": "text/x-python",
   "name": "python",
   "nbconvert_exporter": "python",
   "pygments_lexer": "ipython3",
   "version": "3.6.7"
  }
 },
 "nbformat": 4,
 "nbformat_minor": 2
}
