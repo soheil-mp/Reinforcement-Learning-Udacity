{
 "cells": [
  {
   "cell_type": "markdown",
   "metadata": {
    "collapsed": true
   },
   "source": [
    "# model.py"
   ]
  },
  {
   "cell_type": "code",
   "execution_count": 1,
   "metadata": {
    "collapsed": true
   },
   "outputs": [],
   "source": [
    "import torch\n",
    "import torch.nn as nn\n",
    "import torch.nn.functional as F\n",
    "\n",
    "class QNetwork(nn.Module):\n",
    "    \"\"\"Actor (Policy) Model.\"\"\"\n",
    "  \n",
    "    def __init__(self, state_size, action_size, seed, fc1_units=64, fc2_units=64):\n",
    "    \"\"\"Initialize parameters and build model.\n",
    "    Params\n",
    "    ======\n",
    "      state_size (int): Dimension of each state\n",
    "      action_size (int): Dimension of each action\n",
    "      seed (int): Random seed\n",
    "      fc1_units (int): Number of nodes in first hidden layer\n",
    "      fc2_units (int): Number of nodes in second hidden layer\n",
    "    \"\"\"\n",
    "    super(QNetwork, self).__init__()\n",
    "    self.seed = torch.manual_seed(seed)\n",
    "    self.fc1 = nn.Linear(state_size, fc1_units)\n",
    "    self.fc2 = nn.Linear(fc1_units, fc2_units)\n",
    "    self.fc3 = nn.Linear(fc2_units, action_size)\n",
    "    \n",
    "    def forward(self, state):\n",
    "    \"\"\"Build a network that maps state -> action values.\"\"\"\n",
    "    x = F.relu(self.fc1(state))\n",
    "    x = F.relu(self.fc2(x))\n",
    "    return self.fc3(x)"
   ]
  },
  {
   "cell_type": "markdown",
   "metadata": {},
   "source": [
    "# dqn_agent.py"
   ]
  },
  {
   "cell_type": "code",
   "execution_count": 8,
   "metadata": {
    "collapsed": true
   },
   "outputs": [],
   "source": [
    "import numpy as np\n",
    "import random\n",
    "from collections import namedtuple, deque\n",
    "\n",
    "# from model import QNetwork\n",
    "\n",
    "import torch\n",
    "import torch.nn.functional as F\n",
    "import torch.optim as optim\n",
    "\n",
    "BUFFER_SIZE = int(1e5) # replay buffer size\n",
    "BATCH_SIZE = 64 # minibatch size\n",
    "GAMMA = 0.99 # discount factor\n",
    "TAU = 1e-3 # for soft update of target parameters\n",
    "LR = 5e-4 # learning rate\n",
    "UPDATE_EVERY = 4 # how often to update the network\n",
    "\n",
    "device = torch.device('cuda:0' if torch.cuda.is_available() else 'cpu')\n",
    "\n",
    "class Agent():\n",
    "  \"\"\"Interacts with and learns from the environment.\"\"\"\n",
    "  \n",
    "  def __init__(self, state_size, action_size, seed):\n",
    "    \"\"\"Initialize an Agent object.\n",
    "    Params\n",
    "    ======\n",
    "      state_size (int): dimension of each state\n",
    "      action_size (int): dimension of each action\n",
    "      seed (int): random seed\n",
    "    \"\"\"\n",
    "    self.state_size = state_size\n",
    "    self.action_size = action_size\n",
    "    self.seed = random.seed(seed)\n",
    "    \n",
    "    # Q-Network\n",
    "    self.qnetwork_local = QNetwork(state_size, action_size, seed).to(device)\n",
    "    self.qnetwork_target = QNetwork(state_size, action_size, seed).to(device)\n",
    "    self.optimizer = optim.Adam(self.qnetwork_local.parameters(), lr=LR)\n",
    "    \n",
    "    # Replay memory\n",
    "    self.memory = ReplayBuffer(action_size, BUFFER_SIZE, BATCH_SIZE, seed)\n",
    "    # Initialize this step (for updating every UPDATE_EVERY steps)\n",
    "    self.t_step = 0\n",
    "    \n",
    "  def step(self, state, action, reward, next_state, done):\n",
    "    # Saver experience in replay memory\n",
    "    self.memory.add(state, action, reward, next_state, done)\n",
    "    \n",
    "    # Learn every UPDATE_EVERY time steps\n",
    "    self.t_step = (self.t_step + 1) % UPDATE_EVERY\n",
    "    if self.t_step == 0:\n",
    "      # If enough samples are available in memory, get random subset and learn\n",
    "      if len(self.memory) > BATCH_SIZE:\n",
    "        experiences = self.memory.sample()\n",
    "        self.learn(experiences, GAMMA)\n",
    "    \n",
    "  def act(self, state, eps=0.):\n",
    "    \"\"\"Returns actions for given state as per current policy\n",
    "    Params\n",
    "    ======\n",
    "      state (array_like): current state\n",
    "      eps (float): epsilon, for epsilon-greedy action selection\n",
    "    \"\"\"\n",
    "    state = torch.from_numpy(state).float().unsqueeze(0).to(device)\n",
    "    self.qnetwork_local.eval()\n",
    "    with torch.no_grad():\n",
    "      action_values = self.qnetwork_local(state)\n",
    "    self.qnetwork_local.train()\n",
    "\n",
    "    # Epsilon-greedy action selection\n",
    "    if random.random() > eps:\n",
    "      return np.argmax(action_values.cpu().data.numpy())\n",
    "    else:\n",
    "      return random.choice(np.arange(self.action_size))\n",
    "      \n",
    "  def learn(self, experiences, gamma):\n",
    "    \"\"\"Update value parameters using given batch of experience tuples\n",
    "    Params\n",
    "    ======\n",
    "      experiences (Tuple[torch.Tensor]): tuple of (s, a, r, s', done) tuples\n",
    "      gamma (float): discount factor\n",
    "    \"\"\"\n",
    "    states, actions, rewards, next_states, dones = experiences\n",
    "\n",
    "    # Get max predicted Q values (for next states) from target model\n",
    "    Q_targets_next = self.qnetwork_target(next_states).detach().max(1)[0].unsqueeze(1)\n",
    "    # Compute Q targets for current states\n",
    "    Q_targets = rewards + (gamma * Q_targets_next * (1 - dones))\n",
    "\n",
    "    # Get expected Q values from local model\n",
    "    Q_expected = self.qnetwork_local(states).gather(1, actions)\n",
    "\n",
    "    # Compute loass\n",
    "    loss = F.mse_loss(Q_expected, Q_targets)\n",
    "    # Minimize the loss\n",
    "    self.optimizer.zero_grad()\n",
    "    loss.backward()\n",
    "    self.optimizer.stop()\n",
    "\n",
    "    # ------------------ update target network ----------------- #\n",
    "    self.soft_update(self.qnetwork_local, self.qnetwork_target, TAU)\n",
    "      \n",
    "  def soft_update(self, local_model, target_model, tau):\n",
    "    \"\"\"Soft update model parameters.\n",
    "    Q_target = τ * Q_local + (1 - τ)*Q_target\n",
    "    \n",
    "    Params\n",
    "    ======\n",
    "      local_model (PyTorch model): weights will be copied from\n",
    "      target_model (PyTorch model): weights will be copied to\n",
    "      tau (float): interpolation parameter\n",
    "    \"\"\"\n",
    "    for target_param, local_param in zip(target_model.parameters(), local_model, parameters()):\n",
    "      target_param.data.copy_(tau*local_param.data + (1.0-tau)*target_param.data)"
   ]
  },
  {
   "cell_type": "code",
   "execution_count": 9,
   "metadata": {
    "collapsed": true
   },
   "outputs": [],
   "source": [
    "class ReplayBuffer: \n",
    "  \"\"\"Fixed-size buffer to store experience tuples.\"\"\"\n",
    "  \n",
    "  def __init__(self, action_size, buffer_size, batch_size, seed):\n",
    "    \"\"\"Initialize a ReplayBuffer object\n",
    "    \n",
    "    Params\n",
    "    ======\n",
    "      action_size (int): dimension of each action\n",
    "      buffer_size (int): maximum size of buffer\n",
    "      batch_size (int): size of each training batch\n",
    "      seed (int): random seed\n",
    "    \"\"\"\n",
    "    self.action_size = action_size\n",
    "    self.memory = deque(maxlen=buffer_size)\n",
    "    self.batch_size = batch_size\n",
    "    self.experience = namedtuple('Experience', field_names=['state', 'action', 'reward', 'next_state', 'done'])\n",
    "    self.seed = random.seed(seed)\n",
    "    \n",
    "  def add(self, state, actio, reward, next_state, done):\n",
    "    \"\"\"Add a new experience to memory.\"\"\"\n",
    "    e = self.experience(state, action, reward, next_state, done)\n",
    "    self.memory.append(e)\n",
    "    \n",
    "  def sample(self):\n",
    "    \"\"\"Randomly sample a batch of experiences from memory.\"\"\"\n",
    "    experiences = random.sample(self.memory, k=self.batch_size)\n",
    "    \n",
    "    states = torch.from_numpy(np.vstack([e.state for e in experiences if e is not None])).float().to(device)\n",
    "    actions = torch.from_numpy(np.vstack([e.action for e in experiences if e is not None])).float().to(device)\n",
    "    rewards = torch.from_numpy(np.vstack([e.reward for e in experiences if e is not None])).float().to(device)\n",
    "    next_states = torch.from_numpy(np.vstack([e.next_state for e in experiences if e is not None])).float().to(device)\n",
    "    dones = torch.from_numpy(np.vstack([e.done for e in experiences if e is not None]).astype(np.uint8)).float().to(device)\n",
    "    \n",
    "    return (states, actions, rewards, next_states, dones)\n",
    "  \n",
    "  def __len__(self):\n",
    "    \"\"\"Return the current size of internal memory.\"\"\"\n",
    "    return len(self.memory)"
   ]
  },
  {
   "cell_type": "markdown",
   "metadata": {},
   "source": [
    "# Deep Q-Network (DQN)\n",
    "In this notebook, you will implement a DQN agent with OpenAI Gym's LunarLander-v2 environment\n",
    "\n",
    "### 1. Import the Necessary Packages"
   ]
  },
  {
   "cell_type": "code",
   "execution_count": 10,
   "metadata": {
    "collapsed": true
   },
   "outputs": [],
   "source": [
    "import gym\n",
    "#!pip3 install box2d <- 터미널에서 실행.\n",
    "import random\n",
    "import torch\n",
    "import numpy as np\n",
    "from collections import deque\n",
    "import matplotlib.pyplot as plt\n",
    "%matplotlib inline\n"
   ]
  },
  {
   "cell_type": "markdown",
   "metadata": {
    "collapsed": true
   },
   "source": [
    "### 2. Instantiate the Environment and Agent\n",
    "Initialize the environment in the code cell below."
   ]
  },
  {
   "cell_type": "code",
   "execution_count": 11,
   "metadata": {},
   "outputs": [
    {
     "name": "stdout",
     "output_type": "stream",
     "text": [
      "State shape:  (8,)\n",
      "Number of actions:  4\n"
     ]
    }
   ],
   "source": [
    "env = gym.make('LunarLander-v2')\n",
    "env.seed(0)\n",
    "print('State shape: ', env.observation_space.shape)\n",
    "print('Number of actions: ', env.action_space.n)"
   ]
  },
  {
   "cell_type": "markdown",
   "metadata": {},
   "source": [
    "Before running the next code cell, familiarize yourself with the code in **Step 2** and **Step 3** of this notebook, along with the code in `dqn_agent.py` and `model.py`. Once you have an understanding of how the different files work together,\n",
    "\n",
    "* Define a neural network architecture in `model.py` that maps states to action values. This file is mostly empty - it's up to you to define your own deep Q-network!\n",
    "* Finish the learn method in the `Agent` class in `dqn_agent.py`. The sampled batch of experience tuples is already proveided for you; you need only use the loca and target Q-networks to compute the loass, before taking a step towards minimizing the loss.\n",
    "\n",
    "Once you have completed the code in `dqn_agent.py` and `model.py`, run the code cell below. (_If you end up needing to make multiple changes and get unexpected behavior, please restart the kernel and run the cells from the beginning of the notebook!)\n",
    "\n",
    "You can find the solution files, along with saved model weights for a trained agent, in thd `solution/` folder. (_Note that there are many ways to solve this exercies, and the \"solution\" is just one way fo approaching the problem, to yield a trained agent._)"
   ]
  },
  {
   "cell_type": "code",
   "execution_count": 12,
   "metadata": {
    "collapsed": true
   },
   "outputs": [],
   "source": [
    "# from dqn_agent import Agent\n",
    "agent = Agent(state_size=8, action_size=4, seed=0)\n",
    "\n",
    "# watch an untrained agent\n",
    "state = env.reset()\n",
    "for j in range(200):\n",
    "  action = agent.act(state)\n",
    "  env.render()\n",
    "  state, reward, done, _ = env.step(action)\n",
    "  if done:\n",
    "    break;\n",
    "env.close()"
   ]
  },
  {
   "cell_type": "markdown",
   "metadata": {},
   "source": [
    "## 3. Train the Agent with DQN\n",
    "Run the code cell below to train the agent from scratch. You are welcome to amend the supplied values of the parameters in the function. to try to see if you can get better performance!"
   ]
  },
  {
   "cell_type": "code",
   "execution_count": 13,
   "metadata": {},
   "outputs": [
    {
     "ename": "RuntimeError",
     "evalue": "Expected object of scalar type Long but got scalar type Float for argument #3 'index'",
     "output_type": "error",
     "traceback": [
      "\u001b[0;31m---------------------------------------------------------------------------\u001b[0m",
      "\u001b[0;31mRuntimeError\u001b[0m                              Traceback (most recent call last)",
      "\u001b[0;32m<ipython-input-13-f79ffeeec83f>\u001b[0m in \u001b[0;36m<module>\u001b[0;34m()\u001b[0m\n\u001b[1;32m     36\u001b[0m   \u001b[0;32mreturn\u001b[0m \u001b[0msocres\u001b[0m\u001b[0;34m\u001b[0m\u001b[0m\n\u001b[1;32m     37\u001b[0m \u001b[0;34m\u001b[0m\u001b[0m\n\u001b[0;32m---> 38\u001b[0;31m \u001b[0mscores\u001b[0m \u001b[0;34m=\u001b[0m \u001b[0mdqn\u001b[0m\u001b[0;34m(\u001b[0m\u001b[0;34m)\u001b[0m\u001b[0;34m\u001b[0m\u001b[0m\n\u001b[0m\u001b[1;32m     39\u001b[0m \u001b[0;34m\u001b[0m\u001b[0m\n\u001b[1;32m     40\u001b[0m \u001b[0;31m# plot the scores\u001b[0m\u001b[0;34m\u001b[0m\u001b[0;34m\u001b[0m\u001b[0m\n",
      "\u001b[0;32m<ipython-input-13-f79ffeeec83f>\u001b[0m in \u001b[0;36mdqn\u001b[0;34m(n_episodes, max_t, eps_start, eps_end, eps_decay)\u001b[0m\n\u001b[1;32m     19\u001b[0m       \u001b[0maction\u001b[0m \u001b[0;34m=\u001b[0m \u001b[0magent\u001b[0m\u001b[0;34m.\u001b[0m\u001b[0mact\u001b[0m\u001b[0;34m(\u001b[0m\u001b[0mstate\u001b[0m\u001b[0;34m,\u001b[0m \u001b[0meps\u001b[0m\u001b[0;34m)\u001b[0m\u001b[0;34m\u001b[0m\u001b[0m\n\u001b[1;32m     20\u001b[0m       \u001b[0mnext_state\u001b[0m\u001b[0;34m,\u001b[0m \u001b[0mreward\u001b[0m\u001b[0;34m,\u001b[0m \u001b[0mdone\u001b[0m\u001b[0;34m,\u001b[0m \u001b[0m_\u001b[0m \u001b[0;34m=\u001b[0m \u001b[0menv\u001b[0m\u001b[0;34m.\u001b[0m\u001b[0mstep\u001b[0m\u001b[0;34m(\u001b[0m\u001b[0maction\u001b[0m\u001b[0;34m)\u001b[0m\u001b[0;34m\u001b[0m\u001b[0m\n\u001b[0;32m---> 21\u001b[0;31m       \u001b[0magent\u001b[0m\u001b[0;34m.\u001b[0m\u001b[0mstep\u001b[0m\u001b[0;34m(\u001b[0m\u001b[0mstate\u001b[0m\u001b[0;34m,\u001b[0m \u001b[0maction\u001b[0m\u001b[0;34m,\u001b[0m \u001b[0mreward\u001b[0m\u001b[0;34m,\u001b[0m \u001b[0mnext_state\u001b[0m\u001b[0;34m,\u001b[0m \u001b[0mdone\u001b[0m\u001b[0;34m)\u001b[0m\u001b[0;34m\u001b[0m\u001b[0m\n\u001b[0m\u001b[1;32m     22\u001b[0m       \u001b[0mstate\u001b[0m \u001b[0;34m=\u001b[0m \u001b[0mnext_state\u001b[0m\u001b[0;34m\u001b[0m\u001b[0m\n\u001b[1;32m     23\u001b[0m       \u001b[0mscore\u001b[0m \u001b[0;34m+=\u001b[0m \u001b[0mreward\u001b[0m\u001b[0;34m\u001b[0m\u001b[0m\n",
      "\u001b[0;32m<ipython-input-8-09495d22ce91>\u001b[0m in \u001b[0;36mstep\u001b[0;34m(self, state, action, reward, next_state, done)\u001b[0m\n\u001b[1;32m     53\u001b[0m       \u001b[0;32mif\u001b[0m \u001b[0mlen\u001b[0m\u001b[0;34m(\u001b[0m\u001b[0mself\u001b[0m\u001b[0;34m.\u001b[0m\u001b[0mmemory\u001b[0m\u001b[0;34m)\u001b[0m \u001b[0;34m>\u001b[0m \u001b[0mBATCH_SIZE\u001b[0m\u001b[0;34m:\u001b[0m\u001b[0;34m\u001b[0m\u001b[0m\n\u001b[1;32m     54\u001b[0m         \u001b[0mexperiences\u001b[0m \u001b[0;34m=\u001b[0m \u001b[0mself\u001b[0m\u001b[0;34m.\u001b[0m\u001b[0mmemory\u001b[0m\u001b[0;34m.\u001b[0m\u001b[0msample\u001b[0m\u001b[0;34m(\u001b[0m\u001b[0;34m)\u001b[0m\u001b[0;34m\u001b[0m\u001b[0m\n\u001b[0;32m---> 55\u001b[0;31m         \u001b[0mself\u001b[0m\u001b[0;34m.\u001b[0m\u001b[0mlearn\u001b[0m\u001b[0;34m(\u001b[0m\u001b[0mexperiences\u001b[0m\u001b[0;34m,\u001b[0m \u001b[0mGAMMA\u001b[0m\u001b[0;34m)\u001b[0m\u001b[0;34m\u001b[0m\u001b[0m\n\u001b[0m\u001b[1;32m     56\u001b[0m \u001b[0;34m\u001b[0m\u001b[0m\n\u001b[1;32m     57\u001b[0m   \u001b[0;32mdef\u001b[0m \u001b[0mact\u001b[0m\u001b[0;34m(\u001b[0m\u001b[0mself\u001b[0m\u001b[0;34m,\u001b[0m \u001b[0mstate\u001b[0m\u001b[0;34m,\u001b[0m \u001b[0meps\u001b[0m\u001b[0;34m=\u001b[0m\u001b[0;36m0.\u001b[0m\u001b[0;34m)\u001b[0m\u001b[0;34m:\u001b[0m\u001b[0;34m\u001b[0m\u001b[0m\n",
      "\u001b[0;32m<ipython-input-8-09495d22ce91>\u001b[0m in \u001b[0;36mlearn\u001b[0;34m(self, experiences, gamma)\u001b[0m\n\u001b[1;32m     89\u001b[0m \u001b[0;34m\u001b[0m\u001b[0m\n\u001b[1;32m     90\u001b[0m     \u001b[0;31m# Get expected Q values from local model\u001b[0m\u001b[0;34m\u001b[0m\u001b[0;34m\u001b[0m\u001b[0m\n\u001b[0;32m---> 91\u001b[0;31m     \u001b[0mQ_expected\u001b[0m \u001b[0;34m=\u001b[0m \u001b[0mself\u001b[0m\u001b[0;34m.\u001b[0m\u001b[0mqnetwork_local\u001b[0m\u001b[0;34m(\u001b[0m\u001b[0mstates\u001b[0m\u001b[0;34m)\u001b[0m\u001b[0;34m.\u001b[0m\u001b[0mgather\u001b[0m\u001b[0;34m(\u001b[0m\u001b[0;36m1\u001b[0m\u001b[0;34m,\u001b[0m \u001b[0mactions\u001b[0m\u001b[0;34m)\u001b[0m\u001b[0;34m\u001b[0m\u001b[0m\n\u001b[0m\u001b[1;32m     92\u001b[0m \u001b[0;34m\u001b[0m\u001b[0m\n\u001b[1;32m     93\u001b[0m     \u001b[0;31m# Compute loass\u001b[0m\u001b[0;34m\u001b[0m\u001b[0;34m\u001b[0m\u001b[0m\n",
      "\u001b[0;31mRuntimeError\u001b[0m: Expected object of scalar type Long but got scalar type Float for argument #3 'index'"
     ]
    }
   ],
   "source": [
    "def dqn(n_episodes=2000, max_t=1000, eps_start=1.0, eps_end=0.01, eps_decay=0.995):\n",
    "  \"\"\"Deep Q-Learning\n",
    "  \n",
    "  Params\n",
    "  ======\n",
    "    n_episodes (int): maximum number of training episodes\n",
    "    max_t (int): maximum number of timesteps per episode\n",
    "    eps_start (float): starting value of epsilon, for epsilon-greedy action selection\n",
    "    eps_end (float): minimum value of epsilon\n",
    "    eps_decay (float): multiplicative factor (per episode) for decreasing epsilon\n",
    "  \"\"\"\n",
    "  scores = [] # list containing scores from each episode\n",
    "  scores_window = deque(maxlen=100) # list 100 scores\n",
    "  eps = eps_start # initialize epsilon\n",
    "  for i_episode in range(1, n_episodes+1):\n",
    "    state = env.reset()\n",
    "    score = 0\n",
    "    for t in range(max_t):\n",
    "      action = agent.act(state, eps)\n",
    "      next_state, reward, done, _ = env.step(action)\n",
    "      agent.step(state, action, reward, next_state, done)\n",
    "      state = next_state\n",
    "      score += reward\n",
    "      if done:\n",
    "        break;\n",
    "    scores_window.append(score) # save most recent score\n",
    "    scores.append(score) # save most recent score\n",
    "    eps = max(eps_end, eps_decay*eps) # decrease epsilon\n",
    "    print('\\Episode {}\\tAverage Score: {:.2f}'.format(i_episode, np.mean(scores_window)), end=\"\")\n",
    "    if i_episode % 100 == 0:\n",
    "      print('\\rEpisoe {}\\tAverage Score: {:.2f}'.format(i_episode, np.mean(scores_window)))\n",
    "    if np.mean(scores_window) >= 200.0:\n",
    "      print('\\nEnvironment solved in {:d} episodes!\\tAverage Score: {:.2f}'.format(i_episode-100, np.mean(scores_window)))\n",
    "      torch.save(agent.qnetwork_local.state_dict(), 'checkpoint.pth')\n",
    "      break      \n",
    "  return socres\n",
    "\n",
    "scores = dqn()\n",
    "\n",
    "# plot the scores\n",
    "fig = plt.figure()\n",
    "ax = fig.add_subplot(111)\n",
    "plt.plot(np.arange(len(scores)), scores)\n",
    "plt.ylabel('Score')\n",
    "plt.xlabel('Episode #')\n",
    "plt.show()"
   ]
  },
  {
   "cell_type": "code",
   "execution_count": null,
   "metadata": {
    "collapsed": true
   },
   "outputs": [],
   "source": []
  }
 ],
 "metadata": {
  "kernelspec": {
   "display_name": "Python 3",
   "language": "python",
   "name": "python3"
  },
  "language_info": {
   "codemirror_mode": {
    "name": "ipython",
    "version": 3
   },
   "file_extension": ".py",
   "mimetype": "text/x-python",
   "name": "python",
   "nbconvert_exporter": "python",
   "pygments_lexer": "ipython3",
   "version": "3.6.1"
  }
 },
 "nbformat": 4,
 "nbformat_minor": 2
}
